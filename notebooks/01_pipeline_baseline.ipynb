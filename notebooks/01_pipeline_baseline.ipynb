{
 "cells": [
  {
   "cell_type": "markdown",
   "id": "e8c0802b",
   "metadata": {},
   "source": [
    "# Forecast Big Data 2025 — Pipeline Baseline\n",
    "\n",
    "**Objetivo**: prever a quantidade semanal de vendas por `pdv`/`produto` para janeiro/2023 a partir do histórico de 2022.  \n",
    "**Entregável**: `semana;pdv;produto;quantidade` (inteiros), CSV `;` UTF-8 ou Parquet.  \n",
    "**Métrica de ranking**: WMAPE (quanto menor, melhor).  \n",
    "**Observação**: parametrização para 4 ou 5 semanas de jan/2023.\n"
   ]
  },
  {
   "cell_type": "code",
   "execution_count": null,
   "id": "c89bcb9d",
   "metadata": {},
   "outputs": [],
   "source": [
    "from pathlib import Path\n",
    "import pandas as pd\n",
    "\n",
    "# Caminhos locais (ajuste se necessário)\n",
    "BASE_DIR  = Path(r\"C:\\Users\\guede\\OneDrive\\Documentos\\Hackathon\\Bigdata\\Arquivos\\hackathon-forecast-2025\")\n",
    "DATA_PROC = BASE_DIR / \"data\" / \"processed\"\n",
    "\n",
    "# Parâmetros do baseline\n",
    "N_SEMANAS_MEDIA = 4   # janela de média das últimas N semanas do ano\n",
    "N_SEMANAS_JAN   = 5   # 4 ou 5 semanas para janeiro/2023\n",
    "\n",
    "pd.set_option(\"display.max_rows\", 10)\n",
    "pd.set_option(\"display.width\", 120)\n"
   ]
  },
  {
   "cell_type": "markdown",
   "id": "9c329852",
   "metadata": {},
   "source": [
    "## Dados processados utilizados\n",
    "\n",
    "- `data/processed/produtos.parquet` — dimensão de produtos (`produto`, `categoria`).\n",
    "- `data/processed/pdvs.parquet` — dimensão de PDVs (`pdv`, `categoria_pdv`, `premise`, `zipcode`).\n",
    "- `data/processed/transacoes_2022_diarias.parquet` — transações consolidadas por dia (`data;pdv;produto;quantidade`), 2022.\n"
   ]
  },
  {
   "cell_type": "code",
   "execution_count": null,
   "id": "814b7eb9",
   "metadata": {},
   "outputs": [],
   "source": [
    "df_prod = pd.read_parquet(DATA_PROC / \"produtos.parquet\")\n",
    "df_pdv  = pd.read_parquet(DATA_PROC / \"pdvs.parquet\")\n",
    "df      = pd.read_parquet(DATA_PROC / \"transacoes_2022_diarias.parquet\")\n",
    "\n",
    "print(\"Shapes\")\n",
    "print(\" - produtos          :\", df_prod.shape)\n",
    "print(\" - pdvs              :\", df_pdv.shape)\n",
    "print(\" - transações diárias:\", df.shape)\n",
    "\n",
    "display(df.head(5))\n"
   ]
  },
  {
   "cell_type": "markdown",
   "id": "ec22732c",
   "metadata": {},
   "source": [
    "## Agregação semanal (ISO)\n",
    "\n",
    "Agrega a série diária para semanal por `(pdv, produto, semana)` somando `quantidade` em 2022.\n"
   ]
  },
  {
   "cell_type": "code",
   "execution_count": null,
   "id": "aa27a562",
   "metadata": {},
   "outputs": [],
   "source": [
    "df[\"ano\"] = df[\"data\"].dt.isocalendar().year\n",
    "df[\"semana\"] = df[\"data\"].dt.isocalendar().week\n",
    "\n",
    "df_sem = (df.query(\"ano == 2022\")\n",
    "            .groupby([\"pdv\",\"produto\",\"semana\"], as_index=False)[\"quantidade\"]\n",
    "            .sum())\n",
    "\n",
    "df_sem.head(10)\n"
   ]
  },
  {
   "cell_type": "markdown",
   "id": "478bdaa0",
   "metadata": {},
   "source": [
    "## Baseline: média das últimas *N* semanas de 2022\n",
    "\n",
    "Para cada `(pdv, produto)`, calcula-se a média de `quantidade` nas últimas `N_SEMANAS_MEDIA` semanas de 2022 e replica-se para `N_SEMANAS_JAN` semanas de jan/2023.\n"
   ]
  },
  {
   "cell_type": "code",
   "execution_count": null,
   "id": "7b318ff8",
   "metadata": {},
   "outputs": [],
   "source": [
    "# últimas N semanas de 2022\n",
    "last_weeks = df_sem.query(\"semana > (52 - @N_SEMANAS_MEDIA)\")\n",
    "\n",
    "# média por (pdv, produto)\n",
    "df_base = (last_weeks\n",
    "           .groupby([\"pdv\",\"produto\"], as_index=False)[\"quantidade\"]\n",
    "           .mean()\n",
    "           .rename(columns={\"quantidade\":\"qtd_prev\"}))\n",
    "\n",
    "# replicar para semanas de janeiro/2023\n",
    "df_forecast = (\n",
    "    pd.MultiIndex.from_product(\n",
    "        [range(1, N_SEMANAS_JAN + 1), df_base[\"pdv\"], df_base[\"produto\"]],\n",
    "        names=[\"semana\",\"pdv\",\"produto\"]\n",
    "    ).to_frame(index=False)\n",
    "    .merge(df_base, on=[\"pdv\",\"produto\"], how=\"left\")\n",
    ")\n",
    "\n",
    "# pós-processamento\n",
    "df_forecast[\"quantidade\"] = (df_forecast[\"qtd_prev\"]\n",
    "                             .round()\n",
    "                             .clip(lower=0)\n",
    "                             .astype(int))\n",
    "df_forecast = df_forecast[[\"semana\",\"pdv\",\"produto\",\"quantidade\"]]\n",
    "\n",
    "# export\n",
    "out_csv     = DATA_PROC / \"baseline_forecast.csv\"\n",
    "out_parquet = DATA_PROC / \"baseline_forecast.parquet\"\n",
    "df_forecast.to_csv(out_csv, sep=\";\", index=False, encoding=\"utf-8\")\n",
    "df_forecast.to_parquet(out_parquet, index=False)\n",
    "\n",
    "print(\"Arquivos salvos:\")\n",
    "print(\" -\", out_csv)\n",
    "print(\" -\", out_parquet)\n",
    "df_forecast.head(10)\n"
   ]
  },
  {
   "cell_type": "markdown",
   "id": "644e4909",
   "metadata": {},
   "source": [
    "## Checagens finais\n",
    "\n",
    "- Colunas: `semana; pdv; produto; quantidade`  \n",
    "- `quantidade` não negativa (inteiros)  \n",
    "- CSV com separador `;` e UTF-8\n"
   ]
  },
  {
   "cell_type": "code",
   "execution_count": null,
   "id": "f61f809f",
   "metadata": {},
   "outputs": [],
   "source": [
    "assert list(df_forecast.columns) == [\"semana\",\"pdv\",\"produto\",\"quantidade\"]\n",
    "assert df_forecast[\"quantidade\"].min() >= 0\n",
    "assert pd.api.types.is_integer_dtype(df_forecast[\"quantidade\"])\n",
    "print(\"OK — submissão formatada corretamente.\")\n",
    "print(\"shape:\", df_forecast.shape)\n"
   ]
  }
 ],
 "metadata": {
  "kernelspec": {
   "display_name": ".venv",
   "language": "python",
   "name": "python3"
  },
  "language_info": {
   "name": "python",
   "version": "3.13.5"
  }
 },
 "nbformat": 4,
 "nbformat_minor": 5
}
